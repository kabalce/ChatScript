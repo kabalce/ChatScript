{
 "cells": [
  {
   "cell_type": "code",
   "execution_count": 1,
   "metadata": {
    "collapsed": true
   },
   "outputs": [],
   "source": [
    "import pandas as pd\n",
    "\n",
    "courses = pd.read_csv('courses.csv')"
   ]
  },
  {
   "cell_type": "code",
   "execution_count": 2,
   "outputs": [
    {
     "name": "stdout",
     "output_type": "stream",
     "text": [
      "\n",
      "#\n",
      "# CONCEPTS\n",
      "#\n",
      "\n",
      "concept: ~my_negation (~negation \"don't\")\n",
      "concept: ~greater (greater bigger)\n",
      "concept: ~lesser (lesser smaller)\n",
      "concept: ~equal (equal same equivalent equally identical)\n",
      "concept: ~comparison (~greater ~lesser ~equal)\n",
      "concept: ~finish (finish complete pass)\n",
      "concept: ~have (have collect earn complete gather)\n",
      "\n",
      "# ATTRIBUTES\n",
      "concept: ~ects (ects ECTS point \"ects point\" \"ECTS point\" \"ects points\" \"ECTS points\")\n",
      "concept: ~course (course subject lecture class exercise laboratory)\n",
      "concept: ~term (term semester \"winter semester\" \"summer semester\" \"winter term\" \"summer term\" winter summer)\n",
      "concept: ~teacher (tutor teacher \"academic teacher\" practitioner professor trainer)\n",
      "concept: ~classtype (lecture class lab exercise project type)\n",
      "\n",
      "# COURSES  # TODO\n",
      "concept: ~course_name (\"project: coreforge\" \"financial services\" \"course: game development in unreal engine 5\" \"combinatorial optimization under uncertainty\" \"tutoring\" \"combinatorial optimization\" \"digital image processing\" \"algebra\" \"deep learning (project)\" \"artificial intelligence\" \"from mordor to matrix. the fantastic political philosophy\" \"professional practice\" \"mentoring for data science\" \"sport programming in practice\" \"clone: financial services\" \"tutoring isim\" \"seminar: analysis of algorithmic problems\" \"geometric optimization\" \"diploma project\" \"object-oriented software development\" \"project: development of the enrollment system\" \"seminar: software engineering\" \"digital logic\" \"programming methodology\" \"economic policy policy\" \"c++ course\" \"numerical optimization\" \"algorithms and data structures\" \"cryptography\" \"neural networks and natural language processing\" \"computer networks\" \"game testing\" \"theoretical foundations of programming languages\" \"advanced distributed algorithms\" \"seminar: computer graphics\" \"clone: ethics for the thinking\" \"scala in practice\" \"design and development of .net windows applications\" \"seminar: software testing\" \"object-oriented programming\" \"design of database applications\" \"advanced data mining\" \"ethics for the thinking\" \"warsztaty: jak założyć firmę?\" \"formal languages and computational complexity\" \"introduction to databases\" \"curves and surfaces in computer graphics\" \"linux system administration\" \"probability and statistics\" \"computer architecture for programmers\" \"project: competitive artificial intelligence\" \"project: machine learning for temporal data mining\" \"spectral graph theory\" \"concurrent programming\" \"seminarium: klasyka informatyki\" \"submodular optimization\" \"seminar on algorithms 2015\" \"course on practical c enterprise software development\" \"seminar: computer systems architecture\" \"przedmiot w wersji roboczej\" \"evolutionary algorithms\" \"seminar: efficient implementation of algorithms\" \"clone: computing for computer scientists\" \"compiler construction\" \"seminar: agile software development\" \"theoretical foundations of concurrent processes\" \"mathematical analysis 2\" \"seminar: the implementation of functional languages\" \"computer architecture\" \"software testing\" \"algorithmic game theory\" \"photorealistic computer graphics\" \"analysis of variance\" \"seminar on computer graphics 2017\" \"operating system principles\" \"operating system - tutoring\" \"seminar on foundations of object-oriented languages\" \"logic programming\" \"modern platforms for big data analytics, graphics and visualisation\" \"course: practical c enterprise software development\" \"artificial intelligence for games: team projects\" \"artificial intelligence for games\" \"digitizing the real world\" \"it architecture\" \"it security in practice\" \"programmers' team engineering\" \"synthesis and sound processing\" \"seminar: information safety and security\" \"computational photography\" \"computer vision and photogrammetry\" \"seminar: program certification in coq\" \"seminar: it security\" \"introduction to lambda calculus\" \"application security\" \"methods of convergence acceleration\" \"student apprenticeship\" \"category theory\" \"design i deployment of cloud systems\" \"seminar on networks and clouds\" \"capturing 3d humans project\" \"computational photography b\" \"course: practical software development\" \"project: autonomous martian rover\" \"automated verification\" \"games, automata, logics, and formal verification\" \"scientific writing\" \"design and implementation of advanced php applications\" \"project: creating a chatbot\" \"principles of programming languages\" \"project: evolutionary construction of 2d wheeled vehicles\" \"internet of things\" \"seminar: probabilistic graphical models\" \"ray tracing project\" \"seminar on it security, cloud computing, microservices, and devops\" \"blockchain and its applications\" \"programming in scala\" \"seminar: parameterized algorithms\" \"seminar: theory of linear and integer programming\" \"seminarium: pathfinding algorithms\" \"operating systems (advanced)\" \"semantics of programming languages\" \"seminar: games and game playing\" \"seminar: algebraic effects\" \"course: graph databases\" \"53m1n4r1um dl4 h4k3r0w\" \"seminar: category theory and programming languages\" \"seminarium: silnik unity i wirtualna rzeczywistość\" \"projekt zespołowy: silnik unity3d i wirtualna rzeczywistość lato\" \"program interaction: bisimulation and coinduction\" \"project: digital experience & internet of things\" \"artificial intelligence. seminar\" \"information and coding theory\" \"half-semester course: quantum algorithms\" \"seminar: selected topics in proof theory\" \"scheduling theory\" \"workshop on deep learning\" \"seminar: data mining - data classification and clustering\" \"programming project: online judge system\" \"data mining\" \"java course\" \"data compression\" \"history of philosophy (w)\" \"data science@nokia\" \"logic for computer science\" \"seminar on systems\" \"designing asp.net web applications\" \"simulation-based artificial intelligence\" \"algorithmic fairness, or politically correct computer science\" \"seminar: tricks in c++\" \"natural language processing\" \"introduction to programming in python\" \"software foundations in coq\" \"seminar: lambda calculus: evaluation and normalization\" \"clone: history of moral reflection\" \"research seminar: formal logic and databases\" \"seminar: communication complexity\" \"cross-cultural psychology\" \"fundamentals of computer graphics\" \"tools and methods in big data processing\" \"project: scheduler\" \"seminar on advanced algorithmics\" \"neural networks and deep learning\" \"seminar: algorithmics in networks\" \"seminar: theory of automata\" \"seminar: non-classical logics: theory and applications\" \"verification and synthesis of multi-agent systems\" \"half-course: data recovery\" \"internet technologies\" \"seminar on approximation algorithms and combinatorial optimization\" \"course: rust language\" \"lua course\" \"error correction codes\" \"algorithms on strings\" \"randomized algorithms\" \"what you need to know for your first job\" \"theory of linear and integer programming\" \"project: programming programming games\" \"history of moral reflection\" \"team management\" \"machine learning\" \"logical methods in computer science\" \"i/o-efficient algorithms and data structures\" \"seminar on internet of things\" \"seminar: combinatorial theory of finite automata\" \"seminar: front-end programming frameworks\" \"seminar on blockchain and its applications\" \"innovative projects by nokia\" \"deductive verification\" \"project: mimiker operating system\" \"algorithmic seminar\" \"word equations\" \"practical aspects of computer networks\" \"computational learning theory\" \"text mining\" \"discrete mathematics\" \"digital archeology\" \"seminar: artificial intelligence for games\" \"information systems security\" \"fine-grained complexity\" \"seminar: reinforcement learning for games\" \"programming languages\" \"unix kernel design\" \"embedded systems\" \"eu economic policy\" \"clone: eu economic policy\" \"design and implementation of systems in the cloud\" \"parallel computing with cuda (q2)\" \"term logic\" \"project: demoscene production\" \"intelligence services in state security system and international relations\" \"decision problems in logic\" \"software engineering\" \"probability theory for computer scientists\" \"course: modeling 3d and visualization in sketchup\" \"introduction to computer science\" \"c minicourse\" \"logic for computer science (advanced)\" \"computational complexity in practice\" \"algorithms for big data\" \"seminar: numerical and computer graphics algorithms\" \"distributed algorithms\" \"olympic algorithms\" \"workshops: linux device drivers programming\" \"fpga programming\" \"principles of program analysis\" \"computing for computer scientists\" \"advanced data structures\" \"proseminar: blockchain beyond buzzwords\" \"combinatorics\" \"selected aspects of practical software development\" \"human-computer interaction or computer-human interaction (hci or chi)\" \"seminar: advanced topics in semantics of programming languages\" \"distributed systems\" \"algorithms for planar graphs\" \"theory of argumentation and elements of logical semiotics\" \"project: artifical intelligence for regular boardgames\" \"decidability and complexity of logics motivated by computer science\" \"automata theory\" \"seminar: advanced algorithmics\" \"numerical analysis (b)\" \"competition protection in the market economy\" \"half-course: hacking for everyone\" \"scheduling theory\" \"computer systems\" \"operating systems\" \"introduction to linear optimization\" \"course: game development in unity3d\" \"seminar: competitive artificial intelligence\" \"seminar: probability and algorithms\" \"manipulation and abuses on the financial market\" \"seminar on cryptography and computer security\" \"armies and wars: hybrid and conventional\" \"introduction to philosophical logic\" \"soft power and its tools in international\" \"project: martian rover analog construction and development\" \"introduction to programming in c\" \"advanced techniques in c++ and stl\" \"advanced python programming\" \"databases 2\" \"modeling financial derivatives using the f functional language\" \"calculus\" \"clone: seminar on systems\" \"ideas of post-humanism: the artificial intelligence project and the problem of possible minds\" \"seminar: finite and algorithmic model theory\" \"seminar: fine-grained complexity\" \"project: machine learning for recommender systems\" \"course: technical writing (q2)\" \"freebsd device drivers\" \"modern web development\" \"seminar: advances in computer systems\" \"linux device drivers\" \"an introduction to finite and classical model theory\" \"introduction to algorithms in telecommunication\" \"algorithmic causality with applications\" \"seminar: modern data mining\" \"proseminar: data visualisation\" \"introduction to cloud computing\" \"online algorithms\" \"history of philosophy\" \"functional programming\" \"numerical analysis (m)\" \"efficient implementation of algorithms\" \"front-end apps development\" \"computational complexity\")\n",
      "\n",
      "# NUMBERS\n",
      "concept: ~one    (one    \"1\"  1 1st first)\n",
      "concept: ~two    (two    \"2\"  2 2nd second)\n",
      "concept: ~three  (three  \"3\"  3 3rd third)\n",
      "concept: ~four   (four   \"4\"  4 4th fourth)\n",
      "concept: ~five   (five   \"5\"  5 5th fifth)\n",
      "concept: ~six    (six    \"6\"  6 6th sixth)\n",
      "concept: ~seven  (seven  \"7\"  7 7th seventh)\n",
      "concept: ~eight  (eight  \"8\"  8)\n",
      "concept: ~nine   (nine   \"9\"  9)\n",
      "concept: ~ten    (ten    \"10\" 10)\n",
      "concept: ~eleven (eleven \"11\" 11)\n",
      "concept: ~twelve (twelve \"12\" 12)\n",
      "\n",
      "concept: ~number (~one ~two ~three ~four ~five ~six ~seven ~eight ~nine ~ten ~eleven ~twelve)\n",
      "\n",
      "\n"
     ]
    }
   ],
   "source": [
    "concepts = \"\"\"\n",
    "#\n",
    "# CONCEPTS\n",
    "#\n",
    "\n",
    "concept: ~my_negation (~negation \"don't\")\n",
    "concept: ~greater (greater bigger)\n",
    "concept: ~lesser (lesser smaller)\n",
    "concept: ~equal (equal same equivalent equally identical)\n",
    "concept: ~comparison (~greater ~lesser ~equal)\n",
    "concept: ~finish (finish complete pass)\n",
    "concept: ~have (have collect earn complete gather)\n",
    "\n",
    "# ATTRIBUTES\n",
    "concept: ~ects (ects ECTS point \"ects point\" \"ECTS point\" \"ects points\" \"ECTS points\")\n",
    "concept: ~course (course subject lecture class exercise laboratory)\n",
    "concept: ~term (term semester \"winter semester\" \"summer semester\" \"winter term\" \"summer term\" winter summer)\n",
    "concept: ~teacher (tutor teacher \"academic teacher\" practitioner professor trainer)\n",
    "concept: ~classtype (lecture class lab exercise project type)\n",
    "\n",
    "# COURSES  # TODO\n",
    "concept: ~course_name (\"\"\" \\\n",
    "    + \\\n",
    "    ' '.join(courses['subject'].drop_duplicates().apply(lambda x: '\"' + x.lower().replace('\\n', '').replace('\\r', '').replace('#', '').replace('*', '') + '\"').values.tolist()) \\\n",
    "    + \\\n",
    "\"\"\")\n",
    "\n",
    "# NUMBERS\n",
    "concept: ~one    (one    \"1\"  1 1st first)\n",
    "concept: ~two    (two    \"2\"  2 2nd second)\n",
    "concept: ~three  (three  \"3\"  3 3rd third)\n",
    "concept: ~four   (four   \"4\"  4 4th fourth)\n",
    "concept: ~five   (five   \"5\"  5 5th fifth)\n",
    "concept: ~six    (six    \"6\"  6 6th sixth)\n",
    "concept: ~seven  (seven  \"7\"  7 7th seventh)\n",
    "concept: ~eight  (eight  \"8\"  8)\n",
    "concept: ~nine   (nine   \"9\"  9)\n",
    "concept: ~ten    (ten    \"10\" 10)\n",
    "concept: ~eleven (eleven \"11\" 11)\n",
    "concept: ~twelve (twelve \"12\" 12)\n",
    "\n",
    "concept: ~number (~one ~two ~three ~four ~five ~six ~seven ~eight ~nine ~ten ~eleven ~twelve)\n",
    "\n",
    "\"\"\"\n",
    "print(concepts)  # TODO: sprawdż czy działa ze znakiem # w cudzysłowie"
   ],
   "metadata": {
    "collapsed": false
   }
  },
  {
   "cell_type": "code",
   "execution_count": 3,
   "outputs": [],
   "source": [
    "def process_line(line):\n",
    "    return \" \".join(['\"' + str(term).lower().replace('\\n', '').replace('\\r', '').replace('#', '').replace('*', '').strip() + '\"' for term in line[:-1]]) + \" * \""
   ],
   "metadata": {
    "collapsed": false
   }
  },
  {
   "cell_type": "code",
   "execution_count": 4,
   "outputs": [
    {
     "data": {
      "text/plain": "'\\n#\\n# DATA\\n#\\n\\n# BASIC COURSE INFO\\ntable: ~subjectects(^subject ^ects ^classtype ^term ^offered ^firstyear ^maintutor)\\n\\nif (^ects != *) { createfact(^subject ects ^ects) }\\nif (^classtype != *) { createfact(^subject classtype ^classtype) }\\nif (^term != *) { createfact(^subject term ^term) }\\nif (^offered != *) { createfact(^subject offer ^offered) }\\n\\nDATA:\\n\"project: coreforge\" \"4\" \"analiza kodu źródłowego, prezentacja, projekt programistyczny\" \"winter\" \"true\" \"false\" * \\n\"financial services\" \"5\" \"wykład, ćwiczenia\" \"winter\" \"true\" \"false\" * \\n\"course: game development in unreal engine 5\" \"5\" \"wykład, indywidualny lub zespołowy projekt programistyczny, samodzielna praca przy komputerze\" \"winter\" \"true\" \"false\" * \\n\"combinatorial optimization under uncertainty\" \"6\" \"wykład\" \"winter\" \"true\" \"false\" * \\n\"tutoring\" \"0\" \"nan\" \"winter\" \"true\" \"true\" * \\n\"combinatorial optimization\" \"6\" \"ćwiczenia audytoryjne wykład monograficzny\" \"winter\" \"true\" \"false\" * \\n\"digital image processing\" \"6\" \"lecture programming lab programming project tutorial individual computer work\" \"winter\" \"true\" \"false\" * \\n\"algebra\" \"7\" \"ćwiczenia audytoryjne wykład\" \"winter\" \"true\" \"true\" * \\n\"deep learning (project)\" \"6\" \"projekt programistyczny\" \"winter\" \"true\" \"false\" * \\n\"artificial intelligence\" \"6\" \"wykład, prezentacja, rozwiązywanie zadań z komentowaniem, dyskusja, konsultowanie pomysłów na rozwiązywanie zadań programistycznych, samodzielna praca przy komputerze, indywidualny projekt programistyczny\" \"winter\" \"true\" \"false\" * \\n\"from mordor to matrix. the fantastic political philosophy\" \"3\" \"wykład\" \"winter\" \"true\" \"true\" * \\n\"professional practice\" \"4\" \"realizacja zadań postawionych przez pracodawcę.\" \"winter\" \"true\" \"false\" * \\n\"mentoring for data science\" \"0\" \"nan\" \"winter\" \"true\" \"false\" * \\n\"sport programming in practice\" \"2\" \"nan\" \"winter\" \"true\" \"false\" * \\n\"clone: financial services\" \"3\" \"wykład, ćwiczenia\" \"winter\" \"true\" \"false\" * \\n\"tutoring isim\" \"0\" \"nan\" \"winter\" \"true\" \"true\" * \\n\"seminar: analysis of algorithmic problems\" \"3\" \"nan\" \"winter\" \"true\" \"true\" * \\n\"geometric optimization\" \"6\" \"nan\" \"winter\" \"true\" \"false\" * \\n\"diploma project\" \"4\" \"studenci prezentują wyniki etapów realizacji pracy dyplomowejpodczas zajęć następuje systematyzacja wiedzy i rozwinięcie umiejętności planowania zakresu i przebiegu produktu przedsięwzięcia informatycznego.przedmiot  projekt dyplomy ma charakter wspomagający przygotowanie, redakcje i kompletacje  dokumentacji  i innych produktów wytwarzanych w celu osiągnięcia celu pracy dyplomowej. zajęcia przygotowują do samodzielnego i świadomego współudziału w analizie zagadnień, kształtowaniu i planowaniu projektów informatycznych.\" \"winter\" \"true\" \"false\" * \\n\"object-oriented software development\" \"6\" \"pracownia programistyczna wykładw razie konieczności nauczania zdalnego - materiały online.\" \"winter\" \"true\" \"false\" * \\n\"project: development of the enrollment system\" \"4\" \"projekt programistyczny pracownia programistyczna\" \"winter\" \"true\" \"false\" * \\n\"seminar: software engineering\" \"3\" \"prepared by students lectures\" \"winter\" \"true\" \"false\" * \\n\"digital logic\" \"6\" \"ćwiczenia audytoryjne pracownia programistyczna wykład\" \"winter\" \"true\" \"true\" * \\n\"programming methodology\" \"9\" \"wykład, live coding, dyskusja, rozwiązywanie zadań z komentowaniem, indywidualne/grupowe rozwiązywanie zadań, samodzielna praca przy komputerze\" \"winter\" \"true\" \"true\" * \\n\"economic policy policy\" \"3\" \"wykład\" \"winter\" \"true\" \"false\" * \\n\"c++ course\" \"5\" \"wykład, live coding, analiza programów dostarczonych przez wykładowcę, konsultowanie pomysłów na rozwiązania zadań, samodzielna praca programistyczna w domu oraz na zajęciach.\" \"winter\" \"true\" \"true\" * \\n\"numerical optimization\" \"8\" \"lecture, problem solving in class, individual work at the computer, programming project\" \"winter\" \"true\" \"false\" * \\n\"algorithms and data structures\" \"9\" \"wykład, rozwiązywanie zadań z komentowaniem, indywidualne rozwiązywanie zadań, analiza algorytmów (poprawność, złożoność), indywidualne rozwiązywanie zadań programistycznych\" \"winter\" \"true\" \"false\" * \\n\"cryptography\" \"6\" \"wykład, wykład interaktywny, rozwiązywanie zadań z komentowaniem, indywidualne/grupowe rozwiązywanie zadań/problemów\" \"winter\" \"true\" \"false\" * \\n\"neural networks and natural language processing\" \"6\" \"programming project programming laboratories research project lecturein case of further university lockdown the course will be offered remotely: lectures will be delivered over a videconference system and recorded assignments will be graded using a combination of automatic grading tools and presentations over conferencing systems the project will feature presentations given to other students the final exam may be held remotely in the form of quizzes and oral evaluations during 1-on-1 calls\" \"winter\" \"true\" \"false\" * \\n\"computer networks\" \"6\" \"wykład  ćwiczenia warsztatowe rozwiązywanie zadań z komentowaniem  indywidualne/grupowe rozwiązywanie zadań indywidualny  projekt programistyczny\" \"winter\" \"true\" \"false\" * \\n\"game testing\" \"6\" \"wykłady, wykłady interaktywne, nadzorowane rozwiązywanie problemów,indywidualne / zbiorowe rozwiązywanie problemów, analiza wymagań i przypadków testowych (poprawność, testowalność, złożoność, planowanie i wykonywanie testów)\" \"winter\" \"true\" \"false\" * \\n\"theoretical foundations of programming languages\" \"6\" \"wykład ćwiczenia\" \"winter\" \"true\" \"false\" * \\n\"advanced distributed algorithms\" \"6\" \"ćwiczenia audytoryjne wykład\" \"winter\" \"true\" \"false\" * \\n\"seminar: computer graphics\" \"3\" \"samodzielna praca przygotowanie prezentacji prezentacja dyskusja\" \"winter\" \"true\" \"false\" * \\n\"clone: ethics for the thinking\" \"3\" \"wykład, dyskusja\" \"winter\" \"true\" \"false\" * \\n\"scala in practice\" \"5\" \"lectures (theory & live-coding) programming exercises & demos code reviews reading\" \"winter\" \"true\" \"false\" * \\n\"design and development of .net windows applications\" \"5\" \"pracownia programistyczna wykładw razie konieczności nauczania zdalnego - materiały online.\" \"winter\" \"true\" \"false\" * \\n\"seminar: software testing\" \"3\" \"- samodzielny wybór i lektura materiałów,- przygotowanie i wygłoszenie prezentacji,- wysłuchanie i zrozumienie wygłoszonych referatów,- uczestnictwo w dyskusji.\" \"winter\" \"true\" \"false\" * \\n\"object-oriented programming\" \"6\" \"wykład prezentacja rozwiązań i live coding samodzielna implementacja zadań realizacja i prezentacja projektu programistycznego\" \"winter\" \"true\" \"true\" * \\n\"design of database applications\" \"5\" \"pracownia programistyczna wykład\" \"winter\" \"true\" \"false\" * \\n\"advanced data mining\" \"6\" \"samodzielne czytanie literatury, prezentacja, dyskusja\" \"winter\" \"true\" \"false\" * \\n\"ethics for the thinking\" \"5\" \"wykład, dyskusja\" \"winter\" \"true\" \"false\" * \\n\"warsztaty: jak założyć firmę?\" \"3\" \"nan\" \"winter\" \"true\" \"false\" * \\n\"formal languages and computational complexity\" \"9\" \"wykład i ćwiczenia\" \"winter\" \"true\" \"false\" * \\n\"introduction to databases\" \"6\" \"wykład, wykład interaktywny, samodzielne rozwiązywanie zadań, dyskusja, rozwiązywanie zadań z komentowaniem, ćwiczenia warsztatowe, samodzielny projekt programistyczny\" \"winter\" \"true\" \"false\" * \\n\"curves and surfaces in computer graphics\" \"6\" \"wykład, wykład interaktywny, ćwiczenia audytoryjne, pracownia programistyczna, projekt programistyczny.\" \"winter\" \"true\" \"false\" * \\n\"linux system administration\" \"5\" \"wykład pracownia komputerowa, w tym prezentacja rozwiązań zadań przy komputerze\" \"winter\" \"true\" \"false\" * \\n\"probability and statistics\" \"6\" \"wykład rozwiązywanie zadań z komentowaniem indywidualne rozwiązywanie zadań samodzielna praca przy komputerze\" \"winter\" \"true\" \"false\" * \\n\"computer architecture for programmers\" \"8\" \"wykład, rozwiązywanie zadań z komentowaniem, indywidualne rozwiązywanie zadań, indywidualna analiza kodu źródłowego i kodu maszynowego, konsultowanie pomysłów na rozwiązywanie zadań programistycznych, samodzielna praca przy komputerze.\" \"winter\" \"true\" \"false\" * \\n\"project: competitive artificial intelligence\" \"4\" \"- grupowy projekt programistyczny- prezentacja- dyskusja, konsultowanie pomysłów\" \"winter\" \"true\" \"false\" * \\n\"project: machine learning for temporal data mining\" \"4\" \"zespołowy projekt programistyczny z elementami studiów literatury i prac badawczych\" \"winter\" \"true\" \"false\" * \\n\"spectral graph theory\" \"6\" \"nan\" \"winter\" \"true\" \"false\" * \\n\"project: coreforge\" \"4\" \"analiza kodu źródłowego, prezentacja, projekt programistyczny\" \"summer\" \"true\" \"false\" * \\n\"financial services\" \"5\" \"wykład, ćwiczenia\" \"summer\" \"true\" \"false\" * \\n\"course: game development in unreal engine 5\" \"5\" \"wykład, indywidualny lub zespołowy projekt programistyczny, samodzielna praca przy komputerze\" \"summer\" \"true\" \"false\" * \\n\"combinatorial optimization under uncertainty\" \"6\" \"wykład\" \"summer\" \"true\" \"false\" * \\n\"tutoring\" \"0\" \"nan\" \"summer\" \"true\" \"true\" * \\n\"combinatorial optimization\" \"6\" \"ćwiczenia audytoryjne wykład monograficzny\" \"summer\" \"true\" \"false\" * \\n\"digital image processing\" \"6\" \"lecture programming lab programming project tutorial individual computer work\" \"summer\" \"true\" \"false\" * \\n\"algebra\" \"7\" \"ćwiczenia audytoryjne wykład\" \"summer\" \"true\" \"true\" * \\n\"deep learning (project)\" \"6\" \"projekt programistyczny\" \"summer\" \"true\" \"false\" * \\n\"artificial intelligence\" \"6\" \"wykład, prezentacja, rozwiązywanie zadań z komentowaniem, dyskusja, konsultowanie pomysłów na rozwiązywanie zadań programistycznych, samodzielna praca przy komputerze, indywidualny projekt programistyczny\" \"summer\" \"true\" \"false\" * \\n\"from mordor to matrix. the fantastic political philosophy\" \"3\" \"wykład\" \"summer\" \"true\" \"true\" * \\n\"professional practice\" \"4\" \"realizacja zadań postawionych przez pracodawcę.\" \"summer\" \"true\" \"false\" * \\n\"mentoring for data science\" \"0\" \"nan\" \"summer\" \"true\" \"false\" * \\n\"sport programming in practice\" \"2\" \"nan\" \"summer\" \"true\" \"false\" * \\n\"clone: financial services\" \"3\" \"wykład, ćwiczenia\" \"summer\" \"true\" \"false\" * \\n\"tutoring isim\" \"0\" \"nan\" \"summer\" \"true\" \"true\" * \\n\"seminar: analysis of algorithmic problems\" \"3\" \"nan\" \"summer\" \"true\" \"true\" * \\n\"geometric optimization\" \"6\" \"nan\" \"summer\" \"true\" \"false\" * \\n\"diploma project\" \"4\" \"studenci prezentują wyniki etapów realizacji pracy dyplomowejpodczas zajęć następuje systematyzacja wiedzy i rozwinięcie umiejętności planowania zakresu i przebiegu produktu przedsięwzięcia informatycznego.przedmiot  projekt dyplomy ma charakter wspomagający przygotowanie, redakcje i kompletacje  dokumentacji  i innych produktów wytwarzanych w celu osiągnięcia celu pracy dyplomowej. zajęcia przygotowują do samodzielnego i świadomego współudziału w analizie zagadnień, kształtowaniu i planowaniu projektów informatycznych.\" \"summer\" \"true\" \"false\" * \\n\"object-oriented software development\" \"6\" \"pracownia programistyczna wykładw razie konieczności nauczania zdalnego - materiały online.\" \"summer\" \"true\" \"false\" * \\n\"project: development of the enrollment system\" \"4\" \"projekt programistyczny pracownia programistyczna\" \"summer\" \"true\" \"false\" * \\n\"seminar: software engineering\" \"3\" \"prepared by students lectures\" \"summer\" \"true\" \"false\" * \\n\"digital logic\" \"6\" \"ćwiczenia audytoryjne pracownia programistyczna wykład\" \"summer\" \"true\" \"true\" * \\n\"programming methodology\" \"9\" \"wykład, live coding, dyskusja, rozwiązywanie zadań z komentowaniem, indywidualne/grupowe rozwiązywanie zadań, samodzielna praca przy komputerze\" \"summer\" \"true\" \"true\" * \\n\"economic policy policy\" \"3\" \"wykład\" \"summer\" \"true\" \"false\" * \\n\"c++ course\" \"5\" \"wykład, live coding, analiza programów dostarczonych przez wykładowcę, konsultowanie pomysłów na rozwiązania zadań, samodzielna praca programistyczna w domu oraz na zajęciach.\" \"summer\" \"true\" \"true\" * \\n\"numerical optimization\" \"8\" \"lecture, problem solving in class, individual work at the computer, programming project\" \"summer\" \"true\" \"false\" * \\n\"algorithms and data structures\" \"9\" \"wykład, rozwiązywanie zadań z komentowaniem, indywidualne rozwiązywanie zadań, analiza algorytmów (poprawność, złożoność), indywidualne rozwiązywanie zadań programistycznych\" \"summer\" \"true\" \"false\" * \\n\"cryptography\" \"6\" \"wykład, wykład interaktywny, rozwiązywanie zadań z komentowaniem, indywidualne/grupowe rozwiązywanie zadań/problemów\" \"summer\" \"true\" \"false\" * \\n\"neural networks and natural language processing\" \"6\" \"programming project programming laboratories research project lecturein case of further university lockdown the course will be offered remotely: lectures will be delivered over a videconference system and recorded assignments will be graded using a combination of automatic grading tools and presentations over conferencing systems the project will feature presentations given to other students the final exam may be held remotely in the form of quizzes and oral evaluations during 1-on-1 calls\" \"summer\" \"true\" \"false\" * \\n\"computer networks\" \"6\" \"wykład  ćwiczenia warsztatowe rozwiązywanie zadań z komentowaniem  indywidualne/grupowe rozwiązywanie zadań indywidualny  projekt programistyczny\" \"summer\" \"true\" \"false\" * \\n\"game testing\" \"6\" \"wykłady, wykłady interaktywne, nadzorowane rozwiązywanie problemów,indywidualne / zbiorowe rozwiązywanie problemów, analiza wymagań i przypadków testowych (poprawność, testowalność, złożoność, planowanie i wykonywanie testów)\" \"summer\" \"true\" \"false\" * \\n\"theoretical foundations of programming languages\" \"6\" \"wykład ćwiczenia\" \"summer\" \"true\" \"false\" * \\n\"advanced distributed algorithms\" \"6\" \"ćwiczenia audytoryjne wykład\" \"summer\" \"true\" \"false\" * \\n\"seminar: computer graphics\" \"3\" \"samodzielna praca przygotowanie prezentacji prezentacja dyskusja\" \"summer\" \"true\" \"false\" * \\n\"clone: ethics for the thinking\" \"3\" \"wykład, dyskusja\" \"summer\" \"true\" \"false\" * \\n\"scala in practice\" \"5\" \"lectures (theory & live-coding) programming exercises & demos code reviews reading\" \"summer\" \"true\" \"false\" * \\n\"design and development of .net windows applications\" \"5\" \"pracownia programistyczna wykładw razie konieczności nauczania zdalnego - materiały online.\" \"summer\" \"true\" \"false\" * \\n\"seminar: software testing\" \"3\" \"- samodzielny wybór i lektura materiałów,- przygotowanie i wygłoszenie prezentacji,- wysłuchanie i zrozumienie wygłoszonych referatów,- uczestnictwo w dyskusji.\" \"summer\" \"true\" \"false\" * \\n\"object-oriented programming\" \"6\" \"wykład prezentacja rozwiązań i live coding samodzielna implementacja zadań realizacja i prezentacja projektu programistycznego\" \"summer\" \"true\" \"true\" * \\n\"design of database applications\" \"5\" \"pracownia programistyczna wykład\" \"summer\" \"true\" \"false\" * \\n\"advanced data mining\" \"6\" \"samodzielne czytanie literatury, prezentacja, dyskusja\" \"summer\" \"true\" \"false\" * \\n\"ethics for the thinking\" \"5\" \"wykład, dyskusja\" \"summer\" \"true\" \"false\" * \\n\"warsztaty: jak założyć firmę?\" \"3\" \"nan\" \"summer\" \"true\" \"false\" * \\n\"formal languages and computational complexity\" \"9\" \"wykład i ćwiczenia\" \"summer\" \"true\" \"false\" * \\n\"introduction to databases\" \"6\" \"wykład, wykład interaktywny, samodzielne rozwiązywanie zadań, dyskusja, rozwiązywanie zadań z komentowaniem, ćwiczenia warsztatowe, samodzielny projekt programistyczny\" \"summer\" \"true\" \"false\" * \\n\"curves and surfaces in computer graphics\" \"6\" \"wykład, wykład interaktywny, ćwiczenia audytoryjne, pracownia programistyczna, projekt programistyczny.\" \"summer\" \"true\" \"false\" * \\n\"linux system administration\" \"5\" \"wykład pracownia komputerowa, w tym prezentacja rozwiązań zadań przy komputerze\" \"summer\" \"true\" \"false\" * \\n\"probability and statistics\" \"6\" \"wykład rozwiązywanie zadań z komentowaniem indywidualne rozwiązywanie zadań samodzielna praca przy komputerze\" \"summer\" \"true\" \"false\" * \\n\"computer architecture for programmers\" \"8\" \"wykład, rozwiązywanie zadań z komentowaniem, indywidualne rozwiązywanie zadań, indywidualna analiza kodu źródłowego i kodu maszynowego, konsultowanie pomysłów na rozwiązywanie zadań programistycznych, samodzielna praca przy komputerze.\" \"summer\" \"true\" \"false\" * \\n\"project: competitive artificial intelligence\" \"4\" \"- grupowy projekt programistyczny- prezentacja- dyskusja, konsultowanie pomysłów\" \"summer\" \"true\" \"false\" * \\n\"project: machine learning for temporal data mining\" \"4\" \"zespołowy projekt programistyczny z elementami studiów literatury i prac badawczych\" \"summer\" \"true\" \"false\" * \\n\"spectral graph theory\" \"6\" \"nan\" \"summer\" \"true\" \"false\" * \\n\"concurrent programming\" \"3\" \"nan\" \"nan\" \"false\" \"false\" * \\n\"seminarium: klasyka informatyki\" \"3\" \"nan\" \"nan\" \"false\" \"false\" * \\n\"submodular optimization\" \"6\" \"wykład, czytanie prac naukowych\" \"nan\" \"false\" \"false\" * \\n\"seminar on algorithms 2015\" \"3\" \"nan\" \"nan\" \"false\" \"false\" * \\n\"course on practical c enterprise software development\" \"4\" \"nan\" \"nan\" \"false\" \"false\" * \\n\"seminar: computer systems architecture\" \"3\" \"nan\" \"nan\" \"false\" \"false\" * \\n\"przedmiot w wersji roboczej\" \"6\" \"ćwiczenia audytoryjne pracownia programistyczna wykład\" \"nan\" \"false\" \"false\" * \\n\"evolutionary algorithms\" \"6\" \"projekt programistyczny pracownia programistyczna projekt badawczy wykład\" \"nan\" \"false\" \"false\" * \\n\"seminar: efficient implementation of algorithms\" \"3\" \"nan\" \"nan\" \"false\" \"false\" * \\n\"clone: computing for computer scientists\" \"6\" \"wykład interaktywny prezentacja samodzielna praca przy komputerze pracownia programistyczna dyskusja\" \"nan\" \"false\" \"true\" * \\n\"compiler construction\" \"6\" \"nan\" \"nan\" \"false\" \"false\" * \\n\"seminar: agile software development\" \"3\" \"nan\" \"nan\" \"false\" \"false\" * \\n\"theoretical foundations of concurrent processes\" \"6\" \"ćwiczenia audytoryjne wykład\" \"nan\" \"false\" \"false\" * \\n\"mathematical analysis 2\" \"6\" \"wykładćwicienia audytoryjne\" \"nan\" \"false\" \"true\" * \\n\"seminar: the implementation of functional languages\" \"3\" \"prezentacja studencka\" \"nan\" \"false\" \"false\" * \\n\"computer architecture\" \"6\" \"nan\" \"nan\" \"false\" \"false\" * \\n\"software testing\" \"6\" \"ćwiczenia audytoryjne pracownia programistyczna wykład monograficzny\" \"nan\" \"false\" \"false\" * \\n\"algorithmic game theory\" \"6\" \"ćwiczenia audytoryjne wykład\" \"nan\" \"false\" \"false\" * \\n\"photorealistic computer graphics\" \"6\" \"projekt programistyczny pracownia programistyczna wykład\" \"nan\" \"false\" \"false\" * \\n\"analysis of variance\" \"6\" \"pracownia programistyczna wykład\" \"nan\" \"false\" \"false\" * \\n\"seminar on computer graphics 2017\" \"3\" \"nan\" \"nan\" \"false\" \"false\" * \\n\"operating system principles\" \"6\" \"ćwiczenia audytoryjne pracownia programistyczna wykład\" \"nan\" \"false\" \"false\" * \\n\"operating system - tutoring\" \"0\" \"nan\" \"nan\" \"false\" \"false\" * \\n\"seminar on foundations of object-oriented languages\" \"3\" \"nan\" \"nan\" \"false\" \"false\" * \\n\"logic programming\" \"6\" \"nan\" \"nan\" \"false\" \"false\" * \\n\"modern platforms for big data analytics, graphics and visualisation\" \"2\" \"nan\" \"nan\" \"false\" \"false\" * \\n\"course: practical c enterprise software development\" \"4\" \"nan\" \"nan\" \"false\" \"false\" * \\n\"artificial intelligence for games: team projects\" \"4\" \"projekt programistyczny\" \"nan\" \"false\" \"false\" * \\n\"artificial intelligence for games\" \"6\" \"projekt programistyczny pracownia programistyczna wykład\" \"nan\" \"false\" \"false\" * \\n\"digitizing the real world\" \"6\" \"nan\" \"nan\" \"false\" \"false\" * \\n\"it architecture\" \"6\" \"ćwiczenia audytoryjne wykład\" \"nan\" \"false\" \"false\" * \\n\"it security in practice\" \"6\" \"nan\" \"nan\" \"false\" \"false\" * \\n\"programmers\\' team engineering\" \"3\" \"pracownia programistyczna wykład\" \"nan\" \"false\" \"false\" * \\n\"synthesis and sound processing\" \"6\" \"nan\" \"nan\" \"false\" \"false\" * \\n\"seminar: information safety and security\" \"3\" \"- samodzielny wybór i lektura materiałów,- przygotowanie i wygłoszenie prezentacji,- uczestnictwo w dyskusji.\" \"nan\" \"false\" \"false\" * \\n\"computational photography\" \"6\" \"pracownia programistyczna wykład\" \"nan\" \"false\" \"false\" * \\n\"computer vision and photogrammetry\" \"6\" \"ćwiczenia audytoryjne pracownia programistyczna wykład\" \"nan\" \"false\" \"false\" * \\n\"seminar: program certification in coq\" \"3\" \"nan\" \"nan\" \"false\" \"false\" * \\n\"seminar: it security\" \"3\" \"wykład\" \"nan\" \"false\" \"false\" * \\n\"introduction to lambda calculus\" \"6\" \"wykład, rozwiązywanie zadań z komentowaniem, indywidualne i grupowe, dyskusja, samodzielne studiowanie literatury\" \"nan\" \"false\" \"false\" * \\n\"application security\" \"5\" \"pracownia programistyczna wykład\" \"nan\" \"false\" \"false\" * \\n\"methods of convergence acceleration\" \"6\" \"nan\" \"nan\" \"false\" \"false\" * \\n\"student apprenticeship\" \"6\" \"nan\" \"nan\" \"false\" \"false\" * \\n\"category theory\" \"6\" \"ćwiczenia audytoryjne wykład\" \"nan\" \"false\" \"false\" * \\n\"design i deployment of cloud systems\" \"6\" \"nan\" \"nan\" \"false\" \"false\" * \\n\"seminar on networks and clouds\" \"3\" \"nan\" \"nan\" \"false\" \"false\" * \\n\"capturing 3d humans project\" \"4\" \"wykład interaktywny projekt programistyczny projekt badawczy\" \"nan\" \"false\" \"false\" * \\n\"computational photography b\" \"6\" \"nan\" \"nan\" \"false\" \"false\" * \\n\"course: practical software development\" \"5\" \"nan\" \"nan\" \"false\" \"false\" * \\n\"project: autonomous martian rover\" \"4\" \"projekt programistyczny projekt badawczy\" \"nan\" \"false\" \"false\" * \\n\"automated verification\" \"3\" \"lectures, blackboard problem solving, programming exercises\" \"nan\" \"false\" \"false\" * \\n\"games, automata, logics, and formal verification\" \"6\" \"ćwiczenia audytoryjne wykład\" \"nan\" \"false\" \"false\" * \\n\"scientific writing\" \"4\" \"nan\" \"nan\" \"false\" \"false\" * \\n\"design and implementation of advanced php applications\" \"5\" \"projekt programistyczny pracownia programistyczna wykład\" \"nan\" \"false\" \"false\" * \\n\"project: creating a chatbot\" \"6\" \"nan\" \"nan\" \"false\" \"false\" * \\n\"principles of programming languages\" \"6\" \"projekt programistyczny pracownia programistyczna wykład\" \"nan\" \"false\" \"false\" * \\n\"project: evolutionary construction of 2d wheeled vehicles\" \"6\" \"projekt programistyczny pracownia programistyczna projekt badawczy\" \"nan\" \"false\" \"false\" * \\n\"internet of things\" \"6\" \"nan\" \"nan\" \"false\" \"false\" * \\n\"seminar: probabilistic graphical models\" \"3\" \"nan\" \"nan\" \"false\" \"false\" * \\n\"ray tracing project\" \"4\" \"projekt programistyczny pracownia programistyczna wykład\" \"nan\" \"false\" \"false\" * \\n\"seminar on it security, cloud computing, microservices, and devops\" \"3\" \"nan\" \"nan\" \"false\" \"false\" * \\n\"blockchain and its applications\" \"6\" \"nan\" \"nan\" \"false\" \"false\" * \\n\"programming in scala\" \"5\" \"pracownia programistyczna wykład\" \"nan\" \"false\" \"false\" * \\n\"seminar: parameterized algorithms\" \"3\" \"wykład interaktywny\" \"nan\" \"false\" \"false\" * \\n\"seminar: theory of linear and integer programming\" \"3\" \"nan\" \"nan\" \"false\" \"false\" * \\n\"seminarium: pathfinding algorithms\" \"3\" \"nan\" \"nan\" \"false\" \"false\" * \\n\"operating systems (advanced)\" \"6\" \"ćwiczenia audytoryjne pracownia programistyczna wykład\" \"nan\" \"false\" \"false\" * \\n\"semantics of programming languages\" \"6\" \"ćwiczenia audytoryjne wykład\" \"nan\" \"false\" \"false\" * \\n\"seminar: software engineering\" \"3\" \"wykład monograficzny\" \"nan\" \"false\" \"false\" * \\n\"seminar: games and game playing\" \"3\" \"wykład, prezentacja, dyskusja, indywidualna praca badawcza.\" \"nan\" \"false\" \"false\" * \\n\"seminar: algebraic effects\" \"3\" \"nan\" \"nan\" \"false\" \"false\" * \\n\"course: graph databases\" \"3\" \"nan\" \"nan\" \"false\" \"false\" * \\n\"53m1n4r1um dl4 h4k3r0w\" \"3\" \"nan\" \"nan\" \"false\" \"false\" * \\n\"seminar: category theory and programming languages\" \"3\" \"nan\" \"nan\" \"false\" \"false\" * \\n\"seminarium: silnik unity i wirtualna rzeczywistość\" \"3\" \"nan\" \"nan\" \"false\" \"false\" * \\n\"projekt zespołowy: silnik unity3d i wirtualna rzeczywistość lato\" \"4\" \"projekt programistyczny pracownia programistyczna prezentacja dyskusja konsultowanie pomysłów na rozwiązywanie zadań programistycznych samodzielna praca przy komputerze grupowy projekt programistyczny\" \"nan\" \"false\" \"false\" * \\n\"program interaction: bisimulation and coinduction\" \"3\" \"student presentation, discussion, problem solving\" \"nan\" \"false\" \"false\" * \\n\"project: digital experience & internet of things\" \"4\" \"nan\" \"nan\" \"false\" \"false\" * \\n\"artificial intelligence. seminar\" \"3\" \"nan\" \"nan\" \"false\" \"false\" * \\n\"information and coding theory\" \"3\" \"wykład, prezentacja, rozwiązywanie zadań z prezentowaniem, dyskusja.\" \"nan\" \"false\" \"false\" * \\n\"half-semester course: quantum algorithms\" \"3\" \"wykład, ćwiczenia\" \"nan\" \"false\" \"false\" * \\n\"seminar: selected topics in proof theory\" \"3\" \"wykład, prezentacja\" \"nan\" \"false\" \"false\" * \\n\"scheduling theory\" \"6\" \"lecture, including interactive lecture supervised and unsupervised problem solving, both individual and collective discussions\" \"nan\" \"false\" \"false\" * \\n\"workshop on deep learning\" \"4\" \"nan\" \"nan\" \"false\" \"false\" * \\n\"seminar: data mining - data classification and clustering\" \"3\" \"nan\" \"nan\" \"false\" \"false\" * \\n\"programming project: online judge system\" \"4\" \"nan\" \"nan\" \"false\" \"false\" * \\n\"data mining\" \"6\" \"wykład, prezentacja, dyskusja, rozwiązywanie zadań z komentowaniem, indywidualne/grupowe rozwiązywanie zadań, indywidualny/zespołowy projekt programistyczny, samodzielna praca przy komputerze\" \"nan\" \"false\" \"false\" * \\n\"java course\" \"5\" \"wykład, live coding, analiza programów dostarczonych przez wykładowcę, konsultowanie pomysłów na rozwiązania zadań, samodzielna praca programistyczna w domu oraz na zajęciach.\" \"nan\" \"false\" \"false\" * \\n\"data compression\" \"6\" \"wykład, prezentacja, rozwiązywanie zadań z komentowaniem, dyskusja, konsultowanie pomysłów na rozwiązywanie zadań programistycznych, samodzielna praca przy komputerze, indywidualne zadanie programistyczne\" \"nan\" \"false\" \"false\" * \\n\"history of philosophy (w)\" \"3\" \"nan\" \"nan\" \"false\" \"false\" * \\n\"data science@nokia\" \"3\" \"nan\" \"nan\" \"false\" \"false\" * \\n\"logic for computer science\" \"8\" \"ćwiczenia audytoryjne wykład\" \"nan\" \"false\" \"true\" * \\n\"seminar on systems\" \"3\" \"nan\" \"nan\" \"false\" \"false\" * \\n\"designing asp.net web applications\" \"5\" \"pracownia programistyczna wykładw razie konieczności nauczania zdalnego - materiały online.\" \"nan\" \"false\" \"false\" * \\n\"simulation-based artificial intelligence\" \"6\" \"- lecture- programming assignments with comments- theoretical+programming team project\" \"nan\" \"false\" \"false\" * \\n\"algorithmic fairness, or politically correct computer science\" \"3\" \"seminarium\" \"nan\" \"false\" \"false\" * \\n\"compiler construction\" \"6\" \"projekt programistyczny ćwiczenia audytoryjne wykład\" \"nan\" \"false\" \"false\" * \\n\"seminar: tricks in c++\" \"3\" \"ćwiczenia audytoryjne projekt eksperymentalno-badawczy\" \"nan\" \"false\" \"false\" * \\n\"natural language processing\" \"6\" \"ćwiczenia audytoryjne pracownia programistyczna wykład\" \"nan\" \"false\" \"false\" * \\n\"introduction to programming in python\" \"5\" \"wykład, live coding, samodzielna praca programistyczna w domu oraz na zajęciach, analiza i modyfikacja programów dostarczonych przez prowadzącego\" \"nan\" \"false\" \"true\" * \\n\"software foundations in coq\" \"6\" \"wykład · samodzielna praca przy komputerze · samodzielne wykonywanie zadań zawodowych · indywidualny/zespołowy projekt programistyczny\" \"nan\" \"false\" \"false\" * \\n\"seminar: lambda calculus: evaluation and normalization\" \"3\" \"prezentacja studencka, rozwiązywanie ćwiczeń programistycznych\" \"nan\" \"false\" \"false\" * \\n\"clone: history of moral reflection\" \"3\" \"nan\" \"nan\" \"false\" \"true\" * \\n\"research seminar: formal logic and databases\" \"3\" \"wykład - wykład interaktywny - prezentacja - dyskusja - analiza tekstu - rozwiązywanie zadań z komentowaniem\" \"nan\" \"false\" \"false\" * \\n\"algorithms and data structures\" \"9\" \"nan\" \"nan\" \"false\" \"false\" * \\n\"seminar: communication complexity\" \"3\" \"nan\" \"nan\" \"false\" \"false\" * \\n\"cross-cultural psychology\" \"3\" \"nan\" \"nan\" \"false\" \"false\" * \\n\"fundamentals of computer graphics\" \"6\" \"wykład prezentacja pracownia programistyczna projekt programistyczny samodzielna praca przy komputerze\" \"nan\" \"false\" \"false\" * \\n\"cross-cultural psychology\" \"5\" \"nan\" \"nan\" \"false\" \"false\" * \\n\"tools and methods in big data processing\" \"5\" \"interactive lectures,  individual/collective problem solving,  discussion,  implementation of programming assignments and a programming project\" \"nan\" \"false\" \"false\" * \\n\"project: scheduler\" \"4\" \"projekt programistyczny     pracownia programistyczna\" \"nan\" \"false\" \"false\" * \\n\"seminar on advanced algorithmics\" \"3\" \"nan\" \"nan\" \"false\" \"false\" * \\n\"algorithmic game theory\" \"6\" \"wykład ćwiczenia audytoryjne przygotowanie i prezentacja wybranych zagadnień przez studentów\" \"nan\" \"false\" \"false\" * \\n\"neural networks and deep learning\" \"6\" \"programming project programming laboratories research project lecturein case of further university lockdown the course will be offered remotely: lectures will be delivered over a videconference system and recorded assignments will be graded using a combination of automatic grading tools and presentations over conferencing systems the project will feature presentations given to other students the final exam may be held remotely in the form of quizzes and oral evaluations during 1-on-1 calls\" \"nan\" \"false\" \"false\" * \\n\"seminar: algorithmics in networks\" \"3\" \"nan\" \"nan\" \"false\" \"false\" * \\n\"seminar: theory of automata\" \"3\" \"nan\" \"nan\" \"false\" \"false\" * \\n\"seminar: non-classical logics: theory and applications\" \"3\" \"nan\" \"nan\" \"false\" \"false\" * \\n\"verification and synthesis of multi-agent systems\" \"3\" \"czytanie prac naukowych, prezentowanie prac naukowych, dyskusja\" \"nan\" \"false\" \"false\" * \\n\"half-course: data recovery\" \"3\" \"wykład pracownia komputerowa, w tym:    samodzielna praca przy komputerze    grupowe rozwiązywanie zadań przy komputerze    prezentacja rozwiązań przy komputerze\" \"nan\" \"false\" \"false\" * \\n\"internet technologies\" \"5\" \"wykład pracownia programistyczna\" \"nan\" \"false\" \"false\" * \\n\"seminar on approximation algorithms and combinatorial optimization\" \"3\" \"prezentacja, samodzielna lektura prac naukowych\" \"nan\" \"false\" \"false\" * \\n\"course: rust language\" \"5\" \"wykład - wykład interaktywny, rozwiązywanie zadań z komentowaniem, samodzielna praca przy komputerze - indywidualne programowanie\" \"nan\" \"false\" \"false\" * \\n\"lua course\" \"5\" \"wykład pracownia programistyczna projekt programistyczny\" \"nan\" \"false\" \"false\" * \\n\"error correction codes\" \"6\" \"ćwiczenia audytoryjne wykład\" \"nan\" \"false\" \"false\" * \\n\"algorithms on strings\" \"6\" \"projekt programistyczny projekt badawczy wykład\" \"nan\" \"false\" \"false\" * \\n\"randomized algorithms\" \"6\" \"ćwiczenia audytoryjne wykład\" \"nan\" \"false\" \"false\" * \\n\"what you need to know for your first job\" \"2\" \"wykład\" \"nan\" \"false\" \"false\" * \\n\"theory of linear and integer programming\" \"6\" \"ćwiczenia audytoryjne wykład\" \"nan\" \"false\" \"false\" * \\n\"project: programming programming games\" \"4\" \"- grupowy projekt programistyczny- prezentacja- dyskusja, konsultowanie pomysłów\" \"nan\" \"false\" \"false\" * \\n\"history of moral reflection\" \"5\" \"nan\" \"nan\" \"false\" \"true\" * \\n\"team management\" \"3\" \"nan\" \"nan\" \"false\" \"false\" * \\n\"machine learning\" \"6\" \"lecture programming assignments written assignments programming projectin case of further university lockdown the course will be offered remotely: lectures will be delivered over a videconference system and recorded assignments will be graded using a combination of automatic grading tools and presentations over conferencing systems the project will feature presentations given to other students the final exam may be held remotely in the form of quizzes and oral evaluations during 1-on-1 calls\" \"nan\" \"false\" \"false\" * \\n\"logical methods in computer science\" \"6\" \"wykład, rozwiązywanie zadań z komentowaniem, rozwiązywanie zadań programistycznych\" \"nan\" \"false\" \"true\" * \\n\"i/o-efficient algorithms and data structures\" \"6\" \"lectures, supervised problem solving, individual/collective problem solving, individual project\" \"nan\" \"false\" \"false\" * \\n\"seminar on internet of things\" \"3\" \"nan\" \"nan\" \"false\" \"false\" * \\n\"seminar: combinatorial theory of finite automata\" \"3\" \"prezentacja, czytanie pracy naukowej, dyskusja.\" \"nan\" \"false\" \"false\" * \\n\"seminar: front-end programming frameworks\" \"3\" \"prezentacja seminaryjna dyskusja w trakcie prezentacji\" \"nan\" \"false\" \"false\" * \\n\"seminar on blockchain and its applications\" \"3\" \"prezentacja, czytanie prac naukowych, dyskusja\" \"nan\" \"false\" \"false\" * \\n\"innovative projects by nokia\" \"4\" \"zespołowy projekt programistyczny\" \"nan\" \"false\" \"false\" * \\n\"deductive verification\" \"3\" \"lecture, individual programming tasks, blackboard problem solving\" \"nan\" \"false\" \"false\" * \\n\"project: mimiker operating system\" \"6\" \"analiza kodu źródłowego, prezentacja, projekt programistyczny\" \"nan\" \"false\" \"false\" * \\n\"algorithmic seminar\" \"3\" \"prezentacja, samodzielna lektura prac naukowych\" \"nan\" \"false\" \"false\" * \\n\"word equations\" \"6\" \"ćwiczenia audytoryjne wykład\" \"nan\" \"false\" \"false\" * \\n\"practical aspects of computer networks\" \"5\" \"nan\" \"nan\" \"false\" \"false\" * \\n\"computational learning theory\" \"6\" \"lecture, blackboard problem-solving, homeworks.\" \"nan\" \"false\" \"false\" * \\n\"text mining\" \"6\" \"wykład, prezentacja, rozwiązywanie zadań z komentowaniem, dyskusja, konsultowanie pomysłów na rozwiązywanie zadań programistycznych, samodzielna praca przy komputerze, indywidualny projekt programistyczny\" \"nan\" \"false\" \"false\" * \\n\"discrete mathematics\" \"6\" \"wykład, prezentacja, dyskusja, rozwiązywanie zadań z komentowaniem.\" \"nan\" \"false\" \"false\" * \\n\"seminar: information safety and security\" \"3\" \"- samodzielny wybór i lektura materiałów- przygotowanie i wygłoszenie prezentacji- uczestnictwo w dyskusji\" \"nan\" \"false\" \"false\" * \\n\"digital archeology\" \"3\" \"prezentacja\" \"nan\" \"false\" \"false\" * \\n\"seminar: artificial intelligence for games\" \"3\" \"prezentacja, czytanie prac naukowych, dyskusja.\" \"nan\" \"false\" \"false\" * \\n\"information systems security\" \"6\" \"ćwiczenia audytoryjne pracownia programistyczna wykład\" \"nan\" \"false\" \"false\" * \\n\"fine-grained complexity\" \"6\" \"wykład, rozwiązywanie zadań z komentowaniem, indywidualne/grupowe rozwiązywanie zadań/problemów, indywidualny/zespołowy projekt programistyczny\" \"nan\" \"false\" \"false\" * \\n\"seminar: reinforcement learning for games\" \"3\" \"prezentacja, czytanie pracy naukowej, dyskusja.\" \"nan\" \"false\" \"false\" * \\n\"programming languages\" \"7\" \"wykład, dyskusja, rozwiązywanie zadań z komentowaniem, indywidualne/grupowe rozwiązywanie zadań, indywidualny/zespołowy projekt programistyczny\" \"nan\" \"false\" \"false\" * \\n\"discrete mathematics\" \"9\" \"wykład, wykład interaktywny, rozwiązywanie zadań z komentowaniem, indywidualne/grupowe rozwiązywanie zadań/problemów\" \"nan\" \"false\" \"false\" * \\n\"unix kernel design\" \"6\" \"wykład, rozwiązywanie zadań z komentowaniem, konsultowanie pomysłów na rozwiązywanie zadań programistycznych, indywidualna analiza kodu źródłowego, samodzielna praca przy komputerze, indywidualny projekt programistyczny.\" \"nan\" \"false\" \"false\" * \\n\"embedded systems\" \"6\" \"wykład, rozwiązywanie zadań z komentowaniem, samodzielna praca przy komputerze, prototypowanie układów elektronicznych\" \"nan\" \"false\" \"false\" * \\n\"eu economic policy\" \"5\" \"nan\" \"nan\" \"false\" \"false\" * \\n\"clone: eu economic policy\" \"3\" \"nan\" \"nan\" \"false\" \"false\" * \\n\"design and implementation of systems in the cloud\" \"6\" \"- wykład, wykład interaktywny- indywidualne rozwiązywanie zadań- grupowe omawianie rozwiązań- samodzielna praca przy komputerze- grupowe warsztaty programistyczne- grupowe dzielenie się problemami i rozwiązaniami\" \"nan\" \"false\" \"false\" * \\n\"parallel computing with cuda (q2)\" \"3\" \"wykład,prezentacja,dyskusja,konsultowanie pomysłów rozwiązań zadań programistycznych,samodzielna praca przy komputerze,indywidualny projekt programistyczny\" \"nan\" \"false\" \"false\" * \\n\"term logic\" \"3\" \"wykład\" \"nan\" \"false\" \"false\" * \\n\"project: demoscene production\" \"4\" \"nan\" \"nan\" \"false\" \"false\" * \\n\"intelligence services in state security system and international relations\" \"3\" \"wykład\" \"nan\" \"false\" \"false\" * \\n\"decision problems in logic\" \"6\" \"wykład indywidualne/grupowe rozwiązywanie zadań rozwiązywanie zadań z komentowaniem dyskusja\" \"nan\" \"false\" \"false\" * \\n\"software engineering\" \"6\" \"projekt programistyczny ćwiczenia audytoryjne wykład monograficzny\" \"nan\" \"false\" \"false\" * \\n\"probability theory for computer scientists\" \"6\" \"wykład rozwiązywanie zadań z komentowaniem indywidualne rozwiązywanie zadań\" \"nan\" \"false\" \"false\" * \\n\"course: modeling 3d and visualization in sketchup\" \"5\" \"wykład, pracownia komputerowa\" \"nan\" \"false\" \"false\" * \\n\"introduction to computer science\" \"6\" \"wykład, wykład interaktywny, rozwiązywanie zadań z komentowaniem, indywidualne/grupowe rozwiązywanie zadań/problemów, analiza algorytmu (poprawność, złożoność)\" \"nan\" \"false\" \"true\" * \\n\"c minicourse\" \"2\" \"samodzielna praca przy komputerze - indywidualne programowanie\" \"nan\" \"false\" \"true\" * \\n\"logic for computer science (advanced)\" \"8\" \"wykład, ćwiczenia tablicowe.\" \"nan\" \"false\" \"true\" * \\n\"computational complexity in practice\" \"6\" \"wykład, rozwiązywanie zadań w grupie, zadania domowe\" \"nan\" \"false\" \"false\" * \\n\"photorealistic computer graphics\" \"6\" \"lecture programming lab   programming project tutorial individual computer work\" \"nan\" \"false\" \"false\" * \\n\"artificial intelligence for games\" \"6\" \"- lecture- programming assignments with comments- programming project\" \"nan\" \"false\" \"false\" * \\n\"algorithms for big data\" \"6\" \"lectures, supervised problem solving, individual/collective problem solving\" \"nan\" \"false\" \"false\" * \\n\"seminar: numerical and computer graphics algorithms\" \"3\" \"projekt programistyczny projekt badawczy\" \"nan\" \"false\" \"false\" * \\n\"distributed algorithms\" \"6\" \"wykład - wykład interaktywny - ćwiczenia audytoryjne\" \"nan\" \"false\" \"false\" * \\n\"olympic algorithms\" \"5\" \"wykład prezentacja dyskusja indywidualne rozwiązywanie zadań indywidualny projekt programistyczny\" \"nan\" \"false\" \"false\" * \\n\"workshops: linux device drivers programming\" \"4\" \"wykład, samodzielne rozwiązywanie zadań programistycznych, czytanie i analiza kodu jądra systemu linux.\" \"nan\" \"false\" \"false\" * \\n\"fpga programming\" \"6\" \"wykład, samodzielna praca przy komputerze, indywidualny/zespołowy projekt programistyczny\" \"nan\" \"false\" \"false\" * \\n\"principles of program analysis\" \"6\" \"lecture, individual programming tasks, blackboard problem solving\" \"nan\" \"false\" \"false\" * \\n\"computing for computer scientists\" \"3\" \"wykład interaktywny prezentacja samodzielna praca przy komputerze pracownia programistyczna dyskusja\" \"nan\" \"false\" \"true\" * \\n\"advanced data structures\" \"6\" \"wykład, rozwiązywanie zadań z komentowaniem, indywidualne/grupowe rozwiązywanie zadań/problemów, indywidualny/zespołowy projekt programistyczny\" \"nan\" \"false\" \"false\" * \\n\"proseminar: blockchain beyond buzzwords\" \"3\" \"praca z materiałami źródłowymi, przygotowanie i wygłoszenie wystąpienia, konsultacje z prowadzącym, wystąpienia innych osób uczestniczących w seminarium, dyskusja\" \"nan\" \"false\" \"false\" * \\n\"combinatorics\" \"6\" \"wykład, wykład interaktywny, rozwiązywanie zadań z komentowaniem, indywidualne/grupowe rozwiązywanie zadań\" \"nan\" \"false\" \"false\" * \\n\"selected aspects of practical software development\" \"6\" \"projekt programistyczny pracownia programistyczna wykładw razie konieczności nauczania zdalnego - materiały online.\" \"nan\" \"false\" \"false\" * \\n\"human-computer interaction or computer-human interaction (hci or chi)\" \"6\" \"wykład bogato ilustrowany materiałami audiowizualnymi   ćwiczenia audytoryjne (ok. 300 zadań, pytania, omówienia, dyskusje, spory) pracownia programistyczna (4 projekty rozwojowe realizowane w grupach 2-, 3-osobowych) komplet materiałów wykładowych i innych na stronie wykładu w sieci\" \"nan\" \"false\" \"false\" * \\n\"seminar: advanced topics in semantics of programming languages\" \"3\" \"nan\" \"nan\" \"false\" \"false\" * \\n\"distributed systems\" \"6\" \"wykład wsparty materiałami audiowizualnymi ćwiczenia audytoryjne (rozwiązywanie zadań, analiza problemów, sprawy dyskusyjne i wątpliwe)\" \"nan\" \"false\" \"false\" * \\n\"algorithms for planar graphs\" \"6\" \"nan\" \"nan\" \"false\" \"false\" * \\n\"theory of argumentation and elements of logical semiotics\" \"3\" \"wykład\" \"nan\" \"false\" \"false\" * \\n\"project: artifical intelligence for regular boardgames\" \"4\" \"projekt programistyczny, dyskusja.\" \"nan\" \"false\" \"false\" * \\n\"decidability and complexity of logics motivated by computer science\" \"3\" \"samodzielne przygotowanie i wygłoszenie prezentacji. dyskusja na temat prezentacji własnej i innych uczestników.\" \"nan\" \"false\" \"false\" * \\n\"automata theory\" \"6\" \"wykład, rozwiązywanie zadań\" \"nan\" \"false\" \"false\" * \\n\"selected aspects of practical software development\" \"5\" \"projekt programistyczny pracownia programistyczna wykładw razie konieczności nauczania zdalnego - materiały online.\" \"nan\" \"false\" \"false\" * \\n\"seminar: advanced algorithmics\" \"3\" \"nan\" \"nan\" \"false\" \"false\" * \\n\"numerical analysis (b)\" \"8\" \"wykład  wykład interaktywny  ćwiczenia z systemem deklaracji (rozwiązywanie zadań teoretycznych i typu _włącz komputer_ z komentowaniem, indywidualne/grupowe rozwiązywanie zadań/problemów, analiza algorytmów pod kątem ich poprawności, złożoności i aspektów numerycznych)\" \"nan\" \"false\" \"false\" * \\n\"competition protection in the market economy\" \"3\" \"wykład\" \"nan\" \"false\" \"false\" * \\n\"half-course: hacking for everyone\" \"3\" \"prezentacja, praca własna na dedykowanej platformie, dyskusja i wymiana doświadczeń.\" \"nan\" \"false\" \"false\" * \\n\"scheduling theory\" \"6\" \"a lecture with blackboard and/or slide presentation an exercise session with collaborative supervised problem solving individual student work on homework sheets discussions\" \"nan\" \"false\" \"false\" * \\n\"computer systems\" \"6\" \"wykład ćwiczenia audytoryjne pracownia programistyczna samodzielna praca przy komputerze\" \"nan\" \"false\" \"false\" * \\n\"operating systems\" \"8\" \"wykład, grupowa analiza kodu źródłowego, rozwiązywanie zadań z komentowaniem, indywidualne rozwiązywanie zadań, konsultowanie pomysłów na rozwiązywanie zadań programistycznych, samodzielna praca przy komputerze, indywidualny projekt programistyczny.\" \"nan\" \"false\" \"false\" * \\n\"introduction to linear optimization\" \"6\" \"lectures with blackboard and/or slide presentation exercise sessions with collaborative supervised problem solving  individual student work on homework sheets simple programming tasks (usage of lp solvers)\" \"nan\" \"false\" \"false\" * \\n\"course: game development in unity3d\" \"5\" \"wykład pracownia programistyczna projekt programistyczny\" \"nan\" \"false\" \"false\" * \\n\"seminar: competitive artificial intelligence\" \"3\" \"prezentacja, czytanie prac naukowych / dokumentacji zawodów, dyskusja.\" \"nan\" \"false\" \"false\" * \\n\"seminar: probability and algorithms\" \"3\" \"nan\" \"nan\" \"false\" \"false\" * \\n\"manipulation and abuses on the financial market\" \"5\" \"wykład, ćwiczenia\" \"nan\" \"false\" \"false\" * \\n\"seminar on cryptography and computer security\" \"3\" \"wykład, prezentacja, dyskusja, samodzielna praca przy komputerze, studium przypadku\" \"nan\" \"false\" \"false\" * \\n\"armies and wars: hybrid and conventional\" \"5\" \"wykład, dyskusja\" \"nan\" \"false\" \"false\" * \\n\"introduction to philosophical logic\" \"3\" \"wykład\" \"nan\" \"false\" \"false\" * \\n\"soft power and its tools in international\" \"3\" \"wykład\" \"nan\" \"false\" \"false\" * \\n\"project: martian rover analog construction and development\" \"4\" \"indywidualny/zespołowy projekt programistyczny\" \"nan\" \"false\" \"false\" * \\n\"introduction to programming in c\" \"5\" \"wykład - wykład interaktywny - samodzielna praca przy komputerze - indywidualne programowanie - indywidualny projekt programistyczny\" \"nan\" \"false\" \"true\" * \\n\"advanced techniques in c++ and stl\" \"5\" \"wykład, analiza przykładowych programów, samodzielna praca programistyczna w domu oraz na zajęciach.\" \"nan\" \"false\" \"false\" * \\n\"advanced python programming\" \"5\" \"wykład live coding indywidualna implementacja zadań projekt programistyczny\" \"nan\" \"false\" \"false\" * \\n\"databases 2\" \"6\" \"wykładprojekt\" \"nan\" \"false\" \"false\" * \\n\"modeling financial derivatives using the f functional language\" \"2\" \"wykład, pracownia\" \"nan\" \"false\" \"false\" * \\n\"calculus\" \"10\" \"wykład, rozwiązywanie zadań z komentowaniem, dyskusja\" \"nan\" \"false\" \"true\" * \\n\"clone: seminar on systems\" \"3\" \"nan\" \"nan\" \"false\" \"false\" * \\n\"ideas of post-humanism: the artificial intelligence project and the problem of possible minds\" \"5\" \"wykład, dyskusja, praca semestralna\" \"nan\" \"false\" \"false\" * \\n\"seminar: finite and algorithmic model theory\" \"6\" \"wykład - wykład interaktywny - prezentacja - dyskusja - analiza tekstu - rozwiązywanie zadań z komentowaniem\" \"nan\" \"false\" \"false\" * \\n\"seminar: fine-grained complexity\" \"3\" \"wykład, rozwiązywanie zadań z komentowaniem, indywidualne/grupowe rozwiązywanie zadań/problemów, indywidualny/zespołowy projekt programistyczny\" \"nan\" \"false\" \"false\" * \\n\"project: machine learning for recommender systems\" \"4\" \"zespołowy projekt programistyczny z elementami studiów literatury i prac badawczych\" \"nan\" \"false\" \"false\" * \\n\"course: technical writing (q2)\" \"3\" \"wykład, analiza tekstu, ćwiczenia warsztatowe, krótka praca zaliczeniowa\" \"nan\" \"false\" \"false\" * \\n\"freebsd device drivers\" \"5\" \"wykład. ćwiczenia: czytanie kodu jądra _freebsd_, analiza zachowania jądra przy użyciu _dtrace_, konsultacje do pracowni w zakresie projektowania. pracownia: implementacja sterowników, szukanie błędów, rozszerzanie `gdb`.\" \"nan\" \"false\" \"false\" * \\n\"modern web development\" \"5\" \"wykład, pracownia, implementacja projektu w grupach\" \"nan\" \"false\" \"false\" * \\n\"seminar: advances in computer systems\" \"3\" \"wykład, prezentacja\" \"nan\" \"false\" \"false\" * \\n\"linux device drivers\" \"6\" \"wykład, rozwiązywanie zadań z komentowaniem, konsultowanie pomysłów na rozwiązywanie zadań programistycznych, indywidualna analiza kodu źródłowego, samodzielna praca programistyczna, indywidualny projekt programistyczny.\" \"nan\" \"false\" \"false\" * \\n\"an introduction to finite and classical model theory\" \"6\" \"wykład indywidualne/grupowe rozwiązywanie zadań rozwiązywanie zadań z komentowaniem dyskusja\" \"nan\" \"false\" \"false\" * \\n\"introduction to algorithms in telecommunication\" \"3\" \"1. wykład z użyciem środków multimedialnych2. ćwiczenia praktyczne z dyskusją możliwych rozwiązań oraz praktycznym rozwiązaniemproblemów.3. studium przypadków na bazie podanych przykładów4. konsultacje bezpośrednio po wykładzie5. praca własna - samodzielne studia oraz przygotowanie do wykładu6. praca własna - samodzielne studia oraz przygotowanie do ćwiczeń7. praca własna - samodzielne studia oraz przygotowanie do laboratorium\" \"nan\" \"false\" \"false\" * \\n\"algorithmic causality with applications\" \"2\" \"wykład, rozwiązywanie zadań\" \"nan\" \"false\" \"false\" * \\n\"seminar: modern data mining\" \"3\" \"samodzielne czytanie literatury, prezentacja, dyskusja\" \"nan\" \"false\" \"false\" * \\n\"machine learning\" \"7\" \"lecture programming assignments written assignments programming project\" \"nan\" \"false\" \"false\" * \\n\"proseminar: data visualisation\" \"3\" \"samodzielnie studiowanie książki, samodzielne poszukiwanie innych źródeł, prezentowanie przez studentów w czasie zajęć, samodzielna implementacja.\" \"nan\" \"false\" \"false\" * \\n\"information and coding theory\" \"6\" \"ćwiczenia audytoryjne wykład\" \"nan\" \"false\" \"false\" * \\n\"introduction to cloud computing\" \"2\" \"work with technological documentation and teaching materials in the form of videos, remote labs in the form of exercises on cloud platforms, including challenge exercises.  consultation of progress of own work and project ideas. group discussions. individual design of a technology solution running in the cloud (e.g., application, cd/ci solution, data science project).\" \"nan\" \"false\" \"false\" * \\n\"online algorithms\" \"6\" \"wykład rozwiązywanie zadań z komentowaniem indywidualne/grupowe rozwiązywanie zadań\" \"nan\" \"false\" \"false\" * \\n\"history of philosophy\" \"5\" \"wykład, ćwiczenia\" \"nan\" \"false\" \"false\" * \\n\"functional programming\" \"6\" \"wykład pracownia programistyczna\" \"nan\" \"false\" \"false\" * \\n\"numerical analysis (m)\" \"12\" \"wykład, wykład interaktywny, prezentacja, live coding, ćwiczenia z systemem deklaracji (rozwiązywanie zadań teoretycznych i typu włącz komputer z komentowaniem), indywidualne/grupowe rozwiązywanie zadań/problemów, analiza algorytmów pod kątem ich poprawności, złożoności i efektywności.\" \"nan\" \"false\" \"false\" * \\n\"efficient implementation of algorithms\" \"4\" \"indywidualne rozwiązywanie zadań, prezentacja pomysłów i rozwiązań\" \"nan\" \"false\" \"false\" * \\n\"front-end apps development\" \"5\" \"wykład interaktywny, live coding, dyskusja, indywidualne rozwiązywanie zadań\" \"nan\" \"false\" \"false\" * \\n\"computational complexity\" \"6\" \"wykład, rozwiązywanie zadań z komentowaniem, indywidualne i zespołowe rozwiązywanie zadań.\" \"nan\" \"false\" \"false\" * '"
     },
     "execution_count": 4,
     "metadata": {},
     "output_type": "execute_result"
    }
   ],
   "source": [
    "data = \"\"\"\n",
    "#\n",
    "# DATA\n",
    "#\n",
    "\n",
    "# BASIC COURSE INFO\n",
    "table: ~subjectects(^subject ^ects ^classtype ^term ^offered ^firstyear ^maintutor)\n",
    "\n",
    "if (^ects != *) { createfact(^subject ects ^ects) }\n",
    "if (^classtype != *) { createfact(^subject classtype ^classtype) }\n",
    "if (^term != *) { createfact(^subject term ^term) }\n",
    "if (^offered != *) { createfact(^subject offer ^offered) }\n",
    "\n",
    "DATA:\n",
    "\"\"\" \\\n",
    "    + \\\n",
    "    \"\\n\".join([process_line(l) for l in courses.values.tolist()])\n",
    "\n",
    "data"
   ],
   "metadata": {
    "collapsed": false
   }
  },
  {
   "cell_type": "code",
   "execution_count": 5,
   "outputs": [],
   "source": [
    "topic_intro = \"\"\"\n",
    "#\n",
    "#\n",
    "# TOPICS\n",
    "#\n",
    "#\n",
    "\"\"\""
   ],
   "metadata": {
    "collapsed": false
   }
  },
  {
   "cell_type": "code",
   "execution_count": 13,
   "outputs": [],
   "source": [
    "def course_question(line):\n",
    "    try:\n",
    "        course_name = '\"' + line[0].lower() + '\"'\n",
    "        all = line[-1].replace(\"#\", \"\").replace(\"*\", \"\").replace(\"\\\"\", \"\").split(\"\\n\") if \"\\n\" in line[-1] else [line[-1], line[-1]]\n",
    "        basic = \"{\\\"\" + \" \".join(all[:2]).replace('{', '').replace('}', '').replace('\\r', ' ').replace('\\n', ' ').replace(\"_\", \" \").replace(\"(\", \"\").replace(\"[\", \"\").replace(\")\", \"\").replace(\"]\", \"\").replace(\"/\", \" \").strip()  + \" \\\"}\"\n",
    "        detailed = \"{\\\"\" + \" \".join(all[2:12]).replace('{', '').replace('}', '').replace('\\r', '').replace('\\n', ' ').replace(\"_\", \" \").replace(\"(\", \"\").replace(\"[\", \"\").replace(\")\", \"\").replace(\"]\", \"\").replace(\"/\", \" \").strip() + \" \\\"}\"\n",
    "        if detailed == \"{}\":\n",
    "            detailed = basic\n",
    "        return f\"\"\"\n",
    "u: ([about happen] * {course_name}) ^repeat() ^keep()\n",
    "    {basic}\n",
    "    a: (!~my_negation * more)\n",
    "        {detailed}\n",
    "\"\"\"\n",
    "    except:\n",
    "        return f\"\"\"\n",
    "u: ([about happen] * {line[0].lower()}) ^repeat() ^keep()\n",
    "    Sorry, there was no information for {line[0].lower()} provided.\"\"\""
   ],
   "metadata": {
    "collapsed": false
   }
  },
  {
   "cell_type": "code",
   "execution_count": 14,
   "outputs": [],
   "source": [
    "topic_course_info = \"\"\"\n",
    "#\n",
    "# COURSE INFO\n",
    "#\n",
    "\n",
    "topic: ~course_info (~course_name)\n",
    "\n",
    "t: $finished_classes = ^jsoncreate(PERMANENT array)\n",
    "Hello, talk to me!\n",
    "\n",
    "t: Do you want to learn about the offer of CS institute? ^keep()\n",
    "\ta: ([~yes yes]) Which of the subjects are you interested in? Maybe $cur=^pick(~course_name) $cur?\n",
    "\t\tb: (~ects) ^reuse( CHECKECTS )\n",
    "\t\tb: ([when ~term]) ^reuse( CHECKTERM )\n",
    "\t\tb: (~classtype) ^reuse ( CHECKTYPE )\n",
    "\t\tb: (offer) ^reuse( CHECKOFFER )\n",
    "\t\tb: (~finish) ^reuse( COURSEFINISHED )\n",
    "\n",
    "u: COMPULSORYCOURSES (compulsory !~course_info)\n",
    "\tThe compulsory courses are: \"\"\" \\\n",
    "    + \\\n",
    "    'AN, MD, LdI...' \\\n",
    "    + \\\n",
    "\"\"\"\n",
    "\n",
    "u: COURSEFINISHED (~finish {_~course_name}) ^repeat() ^keep()\n",
    "    $temp = ^join( $cur '_0 )\n",
    "    if ($cur != $temp) { $cur = '_0' }\n",
    "    ^jsonarrayinsert( UNIQUE $finished_classes $cur )\n",
    "    $_formatted_classes = ^jsonwrite( $finished_classes )\n",
    "    Okay, so you've already finished this course. Your finished classes are: $_formatted_classes.\n",
    "\n",
    "u: CHECKECTS ([many ~number] ~ects <<get>> {_~course_name}) ^repeat() ^keep()\n",
    "    $temp = ^join( $cur '_0 )\n",
    "    if ($cur != $temp) { $cur = '_0' }\n",
    "  \tif (^query(direct_sv $cur ects ?)) { You can get @0object ECTS points for the @0subject. }\n",
    "  \telse {I have no idea about $cur}\n",
    "\n",
    "u: CHECKTERM ([when ~term] < * {_~course_name}) ^repeat() ^keep()\n",
    "    $temp = ^join( $cur '_0 )\n",
    "    if ($cur != $temp) { $cur = '_0' }\n",
    "  \tif (^query(direct_sv $cur term ?)) { The course @0subject is offered in the @0object term. }\n",
    "  \telse {I have no idea about $cur}\n",
    "\n",
    "  \ta: ([now \"this year\" \"this time\"]) ^reuse ( CHECKOFFER )\n",
    "\n",
    "u: CHECKTYPE (~classtype < * {_~course_name}) ^repeat() ^keep()\n",
    "    $temp = ^join( $cur '_0 )\n",
    "    if ($cur != $temp) { $cur = '_0' }\n",
    "  \tif (^query(direct_sv $cur classtype ?)) { The course @0subject is offered in the @0object form. }\n",
    "  \telse {I have no idea about $cur}\n",
    "\n",
    "u: CHECKOFFER (offer < * {_~course_name}) ^repeat() ^keep()\n",
    "    $temp = ^join( $cur '_0 )\n",
    "    if ($cur != $temp) { $cur = '_0' }\n",
    "\tif (^query(direct_sv $cur offer ?))  {\n",
    "\t\tif (@0object == \"true\") { The course @0subject is offered in the current cycle. }\n",
    "\t\telse { The course @0subject is not offered in the current cycle. Please try next year. } }\n",
    "  \telse {I have no idea about $cur}\n",
    "\n",
    "  \ta: (~term) ^reuse ( CHECKTERM )\n",
    "\n",
    "u: REQUIREMENTS ([require requirement] < * {_~course_info}) ^repeat() ^keep()\n",
    "    $temp = ^join( $cur '_0 )\n",
    "    if ($cur != $temp) { $cur = '_0' }\n",
    "\tI don't know the requirements for $cur.\n",
    "\n",
    "u: CHECKFIRSTYEAR (first < * appropriate < * {_~course_name}) ^repeat() ^keep()\n",
    "    $temp = ^join( $cur '_0 )\n",
    "    if ($cur != $temp) { $cur = '_0' }\n",
    "\tif (^query(direct_sv $cur firstyear ?))  {\n",
    "\t\tif (@0object == \"true\") { The course @0subject is appropriate for the first year students. }\n",
    "\t\telse { The course @0subject is not appropriate for the first year students. Please try next year. } }\n",
    "  \telse {I have no idea about $cur}\n",
    "\n",
    "#! How many ects I have now?\n",
    "?: ECTSCOUNTER ([many much] ~ects * I ~have *) ^repeat() ^keep()\n",
    "    $_counter = 0\n",
    "    $_points = 0\n",
    "    $_len = ^length($finished_classes)\n",
    "    ^loop($_len)\n",
    "    {\n",
    "        if (^query(direct_sv $finished_classes[$_counter] ects ?)) {$_points += @0object}\n",
    "        $_counter += 1\n",
    "    }\n",
    "    $_formatted_classes = ^jsonwrite( $finished_classes )\n",
    "    You have $_points ECTS points, your finished classes are: $_formatted_classes.\n",
    "\n",
    "\"\"\" \\\n",
    "    + \\\n",
    "    \"\\n\\n\".join([course_question(l) for l in courses[['subject', 'description']].drop_duplicates().values.tolist()])\n"
   ],
   "metadata": {
    "collapsed": false
   }
  },
  {
   "cell_type": "code",
   "execution_count": 15,
   "outputs": [],
   "source": [
    "with open(\"RAWDATA/CriStian/bots.top\", \"w\") as f:\n",
    "    f.write((concepts + data + topic_intro + topic_course_info).replace('\"nan\"', '0').replace(\"—\", \"-\").replace(\"–\", \"-\"))"
   ],
   "metadata": {
    "collapsed": false
   }
  },
  {
   "cell_type": "code",
   "execution_count": null,
   "outputs": [],
   "source": [
    "print(concepts + data + topic_intro + topic_course_info)"
   ],
   "metadata": {
    "collapsed": false
   }
  },
  {
   "cell_type": "code",
   "execution_count": null,
   "outputs": [],
   "source": [
    "line[-1]"
   ],
   "metadata": {
    "collapsed": false
   }
  },
  {
   "cell_type": "code",
   "execution_count": null,
   "outputs": [],
   "source": [
    "\"–\" == \"-\""
   ],
   "metadata": {
    "collapsed": false
   }
  },
  {
   "cell_type": "code",
   "execution_count": null,
   "outputs": [],
   "source": [],
   "metadata": {
    "collapsed": false
   }
  }
 ],
 "metadata": {
  "kernelspec": {
   "display_name": "Python 3",
   "language": "python",
   "name": "python3"
  },
  "language_info": {
   "codemirror_mode": {
    "name": "ipython",
    "version": 2
   },
   "file_extension": ".py",
   "mimetype": "text/x-python",
   "name": "python",
   "nbconvert_exporter": "python",
   "pygments_lexer": "ipython2",
   "version": "2.7.6"
  }
 },
 "nbformat": 4,
 "nbformat_minor": 0
}
